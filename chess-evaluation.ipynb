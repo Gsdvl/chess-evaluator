{
 "cells": [
  {
   "cell_type": "code",
   "execution_count": 1,
   "metadata": {},
   "outputs": [
    {
     "name": "stderr",
     "output_type": "stream",
     "text": [
      "2024-10-28 21:12:17.823649: I tensorflow/core/platform/cpu_feature_guard.cc:193] This TensorFlow binary is optimized with oneAPI Deep Neural Network Library (oneDNN) to use the following CPU instructions in performance-critical operations:  AVX2 FMA\n",
      "To enable them in other operations, rebuild TensorFlow with the appropriate compiler flags.\n",
      "2024-10-28 21:12:20.593980: W tensorflow/stream_executor/platform/default/dso_loader.cc:64] Could not load dynamic library 'libcudart.so.11.0'; dlerror: libcudart.so.11.0: cannot open shared object file: No such file or directory\n",
      "2024-10-28 21:12:20.594026: I tensorflow/stream_executor/cuda/cudart_stub.cc:29] Ignore above cudart dlerror if you do not have a GPU set up on your machine.\n",
      "2024-10-28 21:12:20.897401: E tensorflow/stream_executor/cuda/cuda_blas.cc:2981] Unable to register cuBLAS factory: Attempting to register factory for plugin cuBLAS when one has already been registered\n",
      "2024-10-28 21:12:24.606871: W tensorflow/stream_executor/platform/default/dso_loader.cc:64] Could not load dynamic library 'libnvinfer.so.7'; dlerror: libnvinfer.so.7: cannot open shared object file: No such file or directory\n",
      "2024-10-28 21:12:24.607257: W tensorflow/stream_executor/platform/default/dso_loader.cc:64] Could not load dynamic library 'libnvinfer_plugin.so.7'; dlerror: libnvinfer_plugin.so.7: cannot open shared object file: No such file or directory\n",
      "2024-10-28 21:12:24.607278: W tensorflow/compiler/tf2tensorrt/utils/py_utils.cc:38] TF-TRT Warning: Cannot dlopen some TensorRT libraries. If you would like to use Nvidia GPU with TensorRT, please make sure the missing libraries mentioned above are installed properly.\n"
     ]
    }
   ],
   "source": [
    "import pandas as pd\n",
    "import numpy as np\n",
    "import torch\n",
    "from gensim.models import Word2Vec\n",
    "from tensorflow.keras.layers import Dense\n",
    "from tensorflow.keras.models import Sequential\n",
    "from tensorflow.keras.callbacks import EarlyStopping"
   ]
  },
  {
   "cell_type": "code",
   "execution_count": 2,
   "metadata": {},
   "outputs": [],
   "source": [
    "chessData = pd.read_csv('Data/chessData.csv')\n",
    "random_evals = pd.read_csv('Data/random_evals.csv')\n",
    "tactic_evals = pd.read_csv('Data/tactic_evals.csv')"
   ]
  },
  {
   "cell_type": "code",
   "execution_count": 3,
   "metadata": {},
   "outputs": [
    {
     "name": "stderr",
     "output_type": "stream",
     "text": [
      "/tmp/ipykernel_9480/2706941485.py:2: SettingWithCopyWarning: \n",
      "A value is trying to be set on a copy of a slice from a DataFrame.\n",
      "Try using .loc[row_indexer,col_indexer] = value instead\n",
      "\n",
      "See the caveats in the documentation: https://pandas.pydata.org/pandas-docs/stable/user_guide/indexing.html#returning-a-view-versus-a-copy\n",
      "  tactic_evals_check['isCheck'] = tactic_evals_check['Evaluation'].str.contains(\"#\")\n",
      "/tmp/ipykernel_9480/2706941485.py:3: SettingWithCopyWarning: \n",
      "A value is trying to be set on a copy of a slice from a DataFrame.\n",
      "Try using .loc[row_indexer,col_indexer] = value instead\n",
      "\n",
      "See the caveats in the documentation: https://pandas.pydata.org/pandas-docs/stable/user_guide/indexing.html#returning-a-view-versus-a-copy\n",
      "  tactic_evals_check['isCheck'] = list(map(int, tactic_evals_check['isCheck']))\n"
     ]
    },
    {
     "data": {
      "text/html": [
       "<div>\n",
       "<style scoped>\n",
       "    .dataframe tbody tr th:only-of-type {\n",
       "        vertical-align: middle;\n",
       "    }\n",
       "\n",
       "    .dataframe tbody tr th {\n",
       "        vertical-align: top;\n",
       "    }\n",
       "\n",
       "    .dataframe thead th {\n",
       "        text-align: right;\n",
       "    }\n",
       "</style>\n",
       "<table border=\"1\" class=\"dataframe\">\n",
       "  <thead>\n",
       "    <tr style=\"text-align: right;\">\n",
       "      <th></th>\n",
       "      <th>FEN</th>\n",
       "      <th>Move</th>\n",
       "    </tr>\n",
       "  </thead>\n",
       "  <tbody>\n",
       "    <tr>\n",
       "      <th>0</th>\n",
       "      <td>r2qkbr1/pb1nn3/1ppp3p/8/3P1p2/2PB1N1P/PPQN1PP1...</td>\n",
       "      <td>d3g6</td>\n",
       "    </tr>\n",
       "    <tr>\n",
       "      <th>1</th>\n",
       "      <td>r2qkb2/pb1nn3/1ppp2rp/8/3P1p2/2P2N1P/PPQN1PP1/...</td>\n",
       "      <td>c2g6</td>\n",
       "    </tr>\n",
       "    <tr>\n",
       "      <th>2</th>\n",
       "      <td>r2qkbr1/pb1nn3/1ppp2Bp/8/3P1p2/2P2N1P/PPQN1PP1...</td>\n",
       "      <td>g8g6</td>\n",
       "    </tr>\n",
       "    <tr>\n",
       "      <th>3</th>\n",
       "      <td>8/7p/R5p1/2p1pkP1/7P/P4PK1/1r6/3q4 w - - 6 46</td>\n",
       "      <td>a6f6</td>\n",
       "    </tr>\n",
       "    <tr>\n",
       "      <th>4</th>\n",
       "      <td>6k1/pp6/3p4/2p1p3/2P1P1q1/1P1P2pP/P5P1/5K2 w -...</td>\n",
       "      <td>h3g4</td>\n",
       "    </tr>\n",
       "  </tbody>\n",
       "</table>\n",
       "</div>"
      ],
      "text/plain": [
       "                                                 FEN  Move\n",
       "0  r2qkbr1/pb1nn3/1ppp3p/8/3P1p2/2PB1N1P/PPQN1PP1...  d3g6\n",
       "1  r2qkb2/pb1nn3/1ppp2rp/8/3P1p2/2P2N1P/PPQN1PP1/...  c2g6\n",
       "2  r2qkbr1/pb1nn3/1ppp2Bp/8/3P1p2/2P2N1P/PPQN1PP1...  g8g6\n",
       "3      8/7p/R5p1/2p1pkP1/7P/P4PK1/1r6/3q4 w - - 6 46  a6f6\n",
       "4  6k1/pp6/3p4/2p1p3/2P1P1q1/1P1P2pP/P5P1/5K2 w -...  h3g4"
      ]
     },
     "execution_count": 3,
     "metadata": {},
     "output_type": "execute_result"
    }
   ],
   "source": [
    "tactic_evals_check = tactic_evals.dropna()\n",
    "tactic_evals_check['isCheck'] = tactic_evals_check['Evaluation'].str.contains(\"#\")\n",
    "tactic_evals_check['isCheck'] = list(map(int, tactic_evals_check['isCheck']))\n",
    "\n",
    "predictors_raw = tactic_evals_check.drop(['Evaluation', 'isCheck'], axis=1)\n",
    "predictors_raw.head()"
   ]
  },
  {
   "cell_type": "code",
   "execution_count": 4,
   "metadata": {},
   "outputs": [],
   "source": [
    "def separate_board(board):\n",
    "    return board.replace('/', ' ').split()\n",
    "\n",
    "def separate_move(move):\n",
    "    separated_move = []\n",
    "    for i in range(len(move)):\n",
    "        separated_move.append(move[i])\n",
    "    return separated_move\n"
   ]
  },
  {
   "cell_type": "code",
   "execution_count": 5,
   "metadata": {},
   "outputs": [],
   "source": [
    "tokens_lines = list(map(separate_board, np.asarray(tactic_evals_check['FEN'])))\n",
    "tokens_lines = [line[0:8] for line in tokens_lines]\n",
    "\n",
    "tokens_moves = list(map(separate_move, np.asarray(tactic_evals_check['Move'])))\n",
    "#tokens_piece = list(map(fen_to_tokens_without_spaces, np.asarray(tactic_evals['FEN'])))\n",
    "predictors_raw['FEN'] = tokens_lines\n",
    "predictors_raw['Move'] = tokens_moves\n"
   ]
  },
  {
   "cell_type": "code",
   "execution_count": 6,
   "metadata": {},
   "outputs": [
    {
     "data": {
      "text/plain": [
       "(173507683, 203556080)"
      ]
     },
     "execution_count": 6,
     "metadata": {},
     "output_type": "execute_result"
    }
   ],
   "source": [
    "embedding_dim = 64\n",
    "fen_embeddings = Word2Vec(sentences=tokens_lines, vector_size=embedding_dim, window=5, min_count=1, sg=1)\n",
    "fen_embeddings.train(tokens_lines, total_examples=len(tokens_lines), epochs=10)"
   ]
  },
  {
   "cell_type": "code",
   "execution_count": 7,
   "metadata": {},
   "outputs": [
    {
     "data": {
      "text/plain": [
       "(14528587, 101898870)"
      ]
     },
     "execution_count": 7,
     "metadata": {},
     "output_type": "execute_result"
    }
   ],
   "source": [
    "embedding_dim = 64\n",
    "move_embeddings = Word2Vec(sentences=tokens_moves, vector_size=embedding_dim, window=5, min_count=1, sg=1)\n",
    "move_embeddings.train(tokens_moves, total_examples=len(tokens_moves), epochs=10)"
   ]
  },
  {
   "cell_type": "code",
   "execution_count": null,
   "metadata": {},
   "outputs": [],
   "source": [
    "fen_data = []\n",
    "move_data = []\n",
    "\n",
    "for line in range(len(tokens_lines)):\n",
    "    fen_data.append(fen_embeddings.wv[tokens_lines[line]])\n",
    "\n",
    "for move in range(len(tokens_moves)):\n",
    "    move_data.append(move_embeddings.wv[tokens_moves[move]])\n",
    "\n",
    "predictors = pd.DataFrame({\n",
    "    'fen_data': fen_data,\n",
    "    'move_data': move_data\n",
    "})"
   ]
  },
  {
   "cell_type": "code",
   "execution_count": null,
   "metadata": {},
   "outputs": [],
   "source": [
    "ncols = predictors.shape[1]\n",
    "mate_evaluator = Sequential()\n",
    "mate_evaluator.add(Dense(64, activation = 'relu', input_shape = (ncols,)))\n",
    "mate_evaluator.add(Dense(64, activation = 'relu'))\n",
    "mate_evaluator.add(Dense(1 , activation = 'sigmoid'))\n",
    "mate_evaluator.compile(optimizer = 'adam', loss = 'categorical_crossentropy', \n",
    "\t\t      metrics=['accuracy'])\n"
   ]
  },
  {
   "cell_type": "code",
   "execution_count": null,
   "metadata": {},
   "outputs": [],
   "source": [
    "early_stopping_monitor = EarlyStopping(patience=2)\n",
    "mate_evaluator.fit(predictors, tactic_evals_check['isCheck'], \n",
    "                    validation_split=0.3, \n",
    "                    epochs=20, \n",
    "                    callbacks=[early_stopping_monitor])"
   ]
  }
 ],
 "metadata": {
  "kernelspec": {
   "display_name": "base",
   "language": "python",
   "name": "python3"
  },
  "language_info": {
   "codemirror_mode": {
    "name": "ipython",
    "version": 3
   },
   "file_extension": ".py",
   "mimetype": "text/x-python",
   "name": "python",
   "nbconvert_exporter": "python",
   "pygments_lexer": "ipython3",
   "version": "3.10.10"
  }
 },
 "nbformat": 4,
 "nbformat_minor": 2
}
