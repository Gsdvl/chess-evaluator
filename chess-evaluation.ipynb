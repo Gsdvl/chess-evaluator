{
 "cells": [
  {
   "cell_type": "code",
   "execution_count": 1,
   "metadata": {},
   "outputs": [
    {
     "name": "stderr",
     "output_type": "stream",
     "text": [
      "2024-10-29 02:27:33.245224: I tensorflow/core/platform/cpu_feature_guard.cc:193] This TensorFlow binary is optimized with oneAPI Deep Neural Network Library (oneDNN) to use the following CPU instructions in performance-critical operations:  AVX2 FMA\n",
      "To enable them in other operations, rebuild TensorFlow with the appropriate compiler flags.\n",
      "2024-10-29 02:27:35.221938: W tensorflow/stream_executor/platform/default/dso_loader.cc:64] Could not load dynamic library 'libcudart.so.11.0'; dlerror: libcudart.so.11.0: cannot open shared object file: No such file or directory\n",
      "2024-10-29 02:27:35.221974: I tensorflow/stream_executor/cuda/cudart_stub.cc:29] Ignore above cudart dlerror if you do not have a GPU set up on your machine.\n",
      "2024-10-29 02:27:35.448607: E tensorflow/stream_executor/cuda/cuda_blas.cc:2981] Unable to register cuBLAS factory: Attempting to register factory for plugin cuBLAS when one has already been registered\n",
      "2024-10-29 02:27:38.461406: W tensorflow/stream_executor/platform/default/dso_loader.cc:64] Could not load dynamic library 'libnvinfer.so.7'; dlerror: libnvinfer.so.7: cannot open shared object file: No such file or directory\n",
      "2024-10-29 02:27:38.461706: W tensorflow/stream_executor/platform/default/dso_loader.cc:64] Could not load dynamic library 'libnvinfer_plugin.so.7'; dlerror: libnvinfer_plugin.so.7: cannot open shared object file: No such file or directory\n",
      "2024-10-29 02:27:38.461726: W tensorflow/compiler/tf2tensorrt/utils/py_utils.cc:38] TF-TRT Warning: Cannot dlopen some TensorRT libraries. If you would like to use Nvidia GPU with TensorRT, please make sure the missing libraries mentioned above are installed properly.\n"
     ]
    }
   ],
   "source": [
    "import pandas as pd\n",
    "import numpy as np\n",
    "import torch\n",
    "from gensim.models import Word2Vec\n",
    "from tensorflow.keras.layers import Dense, Flatten, MaxPooling2D, Concatenate, Input, Conv2D\n",
    "from tensorflow.keras.models import Model\n",
    "from tensorflow.keras.callbacks import EarlyStopping"
   ]
  },
  {
   "cell_type": "code",
   "execution_count": 2,
   "metadata": {},
   "outputs": [],
   "source": [
    "#chessData = pd.read_csv('Data/chessData.csv')\n",
    "#random_evals = pd.read_csv('Data/random_evals.csv')\n",
    "tactic_evals = pd.read_csv('Data/tactic_evals.csv')"
   ]
  },
  {
   "cell_type": "code",
   "execution_count": 3,
   "metadata": {},
   "outputs": [],
   "source": [
    "len(tactic_evals)\n",
    "tactic_evals = tactic_evals[:500000]\n"
   ]
  },
  {
   "cell_type": "code",
   "execution_count": 4,
   "metadata": {},
   "outputs": [
    {
     "name": "stderr",
     "output_type": "stream",
     "text": [
      "/tmp/ipykernel_4538/2706941485.py:2: SettingWithCopyWarning: \n",
      "A value is trying to be set on a copy of a slice from a DataFrame.\n",
      "Try using .loc[row_indexer,col_indexer] = value instead\n",
      "\n",
      "See the caveats in the documentation: https://pandas.pydata.org/pandas-docs/stable/user_guide/indexing.html#returning-a-view-versus-a-copy\n",
      "  tactic_evals_check['isCheck'] = tactic_evals_check['Evaluation'].str.contains(\"#\")\n",
      "/tmp/ipykernel_4538/2706941485.py:3: SettingWithCopyWarning: \n",
      "A value is trying to be set on a copy of a slice from a DataFrame.\n",
      "Try using .loc[row_indexer,col_indexer] = value instead\n",
      "\n",
      "See the caveats in the documentation: https://pandas.pydata.org/pandas-docs/stable/user_guide/indexing.html#returning-a-view-versus-a-copy\n",
      "  tactic_evals_check['isCheck'] = list(map(int, tactic_evals_check['isCheck']))\n"
     ]
    },
    {
     "data": {
      "text/html": [
       "<div>\n",
       "<style scoped>\n",
       "    .dataframe tbody tr th:only-of-type {\n",
       "        vertical-align: middle;\n",
       "    }\n",
       "\n",
       "    .dataframe tbody tr th {\n",
       "        vertical-align: top;\n",
       "    }\n",
       "\n",
       "    .dataframe thead th {\n",
       "        text-align: right;\n",
       "    }\n",
       "</style>\n",
       "<table border=\"1\" class=\"dataframe\">\n",
       "  <thead>\n",
       "    <tr style=\"text-align: right;\">\n",
       "      <th></th>\n",
       "      <th>FEN</th>\n",
       "      <th>Move</th>\n",
       "    </tr>\n",
       "  </thead>\n",
       "  <tbody>\n",
       "    <tr>\n",
       "      <th>0</th>\n",
       "      <td>r2qkbr1/pb1nn3/1ppp3p/8/3P1p2/2PB1N1P/PPQN1PP1...</td>\n",
       "      <td>d3g6</td>\n",
       "    </tr>\n",
       "    <tr>\n",
       "      <th>1</th>\n",
       "      <td>r2qkb2/pb1nn3/1ppp2rp/8/3P1p2/2P2N1P/PPQN1PP1/...</td>\n",
       "      <td>c2g6</td>\n",
       "    </tr>\n",
       "    <tr>\n",
       "      <th>2</th>\n",
       "      <td>r2qkbr1/pb1nn3/1ppp2Bp/8/3P1p2/2P2N1P/PPQN1PP1...</td>\n",
       "      <td>g8g6</td>\n",
       "    </tr>\n",
       "    <tr>\n",
       "      <th>3</th>\n",
       "      <td>8/7p/R5p1/2p1pkP1/7P/P4PK1/1r6/3q4 w - - 6 46</td>\n",
       "      <td>a6f6</td>\n",
       "    </tr>\n",
       "    <tr>\n",
       "      <th>4</th>\n",
       "      <td>6k1/pp6/3p4/2p1p3/2P1P1q1/1P1P2pP/P5P1/5K2 w -...</td>\n",
       "      <td>h3g4</td>\n",
       "    </tr>\n",
       "  </tbody>\n",
       "</table>\n",
       "</div>"
      ],
      "text/plain": [
       "                                                 FEN  Move\n",
       "0  r2qkbr1/pb1nn3/1ppp3p/8/3P1p2/2PB1N1P/PPQN1PP1...  d3g6\n",
       "1  r2qkb2/pb1nn3/1ppp2rp/8/3P1p2/2P2N1P/PPQN1PP1/...  c2g6\n",
       "2  r2qkbr1/pb1nn3/1ppp2Bp/8/3P1p2/2P2N1P/PPQN1PP1...  g8g6\n",
       "3      8/7p/R5p1/2p1pkP1/7P/P4PK1/1r6/3q4 w - - 6 46  a6f6\n",
       "4  6k1/pp6/3p4/2p1p3/2P1P1q1/1P1P2pP/P5P1/5K2 w -...  h3g4"
      ]
     },
     "execution_count": 4,
     "metadata": {},
     "output_type": "execute_result"
    }
   ],
   "source": [
    "tactic_evals_check = tactic_evals.dropna()\n",
    "tactic_evals_check['isCheck'] = tactic_evals_check['Evaluation'].str.contains(\"#\")\n",
    "tactic_evals_check['isCheck'] = list(map(int, tactic_evals_check['isCheck']))\n",
    "\n",
    "predictors_raw = tactic_evals_check.drop(['Evaluation', 'isCheck'], axis=1)\n",
    "predictors_raw.head()"
   ]
  },
  {
   "cell_type": "code",
   "execution_count": 5,
   "metadata": {},
   "outputs": [],
   "source": [
    "def separate_board(board):\n",
    "    return board.replace('/', ' ').split()\n",
    "\n",
    "def separate_move(move):\n",
    "    separated_move = []\n",
    "    for i in range(len(move)):\n",
    "        separated_move.append(move[i])\n",
    "    return separated_move\n"
   ]
  },
  {
   "cell_type": "code",
   "execution_count": 6,
   "metadata": {},
   "outputs": [],
   "source": [
    "tokens_lines = list(map(separate_board, np.asarray(tactic_evals_check['FEN'])))\n",
    "tokens_lines = [line[0:8] for line in tokens_lines]\n",
    "\n",
    "tokens_moves = list(map(separate_move, np.asarray(tactic_evals_check['Move'])))\n",
    "#tokens_piece = list(map(fen_to_tokens_without_spaces, np.asarray(tactic_evals['FEN'])))\n",
    "predictors_raw['FEN'] = tokens_lines\n",
    "predictors_raw['Move'] = tokens_moves\n"
   ]
  },
  {
   "cell_type": "code",
   "execution_count": 7,
   "metadata": {},
   "outputs": [
    {
     "data": {
      "text/plain": [
       "(31168484, 37201280)"
      ]
     },
     "execution_count": 7,
     "metadata": {},
     "output_type": "execute_result"
    }
   ],
   "source": [
    "fen_embedding_dim = 64\n",
    "fen_embeddings = Word2Vec(sentences=tokens_lines, vector_size=fen_embedding_dim, window=5, min_count=1, sg=1)\n",
    "fen_embeddings.train(tokens_lines, total_examples=len(tokens_lines), epochs=10)"
   ]
  },
  {
   "cell_type": "code",
   "execution_count": 8,
   "metadata": {},
   "outputs": [
    {
     "data": {
      "text/plain": [
       "(2647889, 18619900)"
      ]
     },
     "execution_count": 8,
     "metadata": {},
     "output_type": "execute_result"
    }
   ],
   "source": [
    "move_embedding_dim = 64\n",
    "move_embeddings = Word2Vec(sentences=tokens_moves, vector_size=move_embedding_dim, window=5, min_count=1, sg=1)\n",
    "move_embeddings.train(tokens_moves, total_examples=len(tokens_moves), epochs=10)"
   ]
  },
  {
   "cell_type": "code",
   "execution_count": 9,
   "metadata": {},
   "outputs": [],
   "source": [
    "fen_data = []\n",
    "move_data = []\n",
    "\n",
    "for line in range(len(tokens_lines)):\n",
    "    fen_data.append(fen_embeddings.wv[tokens_lines[line]])\n",
    "\n",
    "for move in range(len(tokens_moves)):\n",
    "    move_data.append(move_embeddings.wv[tokens_moves[move]])\n",
    "\n",
    "predictors = pd.DataFrame({\n",
    "    'fen_data': fen_data,\n",
    "    'move_data': move_data\n",
    "})"
   ]
  },
  {
   "cell_type": "code",
   "execution_count": 10,
   "metadata": {},
   "outputs": [],
   "source": [
    "move_data_expanded = []\n",
    "for embedding in move_data:\n",
    "    if embedding.shape == (4, 64):\n",
    "        move_data_expanded.append(np.vstack([embedding, np.zeros((4, 64))]))\n",
    "    else:\n",
    "        move_data_expanded.append(np.vstack([embedding, np.zeros((3, 64))]))\n",
    "        \n",
    "predictors['move_data'] = move_data_expanded"
   ]
  },
  {
   "cell_type": "code",
   "execution_count": 11,
   "metadata": {},
   "outputs": [
    {
     "name": "stdout",
     "output_type": "stream",
     "text": [
      "fen_data_shape: (8, 64)\n",
      " move_data_shape: (8, 64)\n"
     ]
    }
   ],
   "source": [
    "print(f\"fen_data_shape: {predictors['fen_data'][0].shape}\\n move_data_shape: {predictors['move_data'][0].shape}\")\n"
   ]
  },
  {
   "cell_type": "code",
   "execution_count": 12,
   "metadata": {},
   "outputs": [
    {
     "data": {
      "text/html": [
       "<div>\n",
       "<style scoped>\n",
       "    .dataframe tbody tr th:only-of-type {\n",
       "        vertical-align: middle;\n",
       "    }\n",
       "\n",
       "    .dataframe tbody tr th {\n",
       "        vertical-align: top;\n",
       "    }\n",
       "\n",
       "    .dataframe thead th {\n",
       "        text-align: right;\n",
       "    }\n",
       "</style>\n",
       "<table border=\"1\" class=\"dataframe\">\n",
       "  <thead>\n",
       "    <tr style=\"text-align: right;\">\n",
       "      <th></th>\n",
       "      <th>fen_data</th>\n",
       "      <th>move_data</th>\n",
       "    </tr>\n",
       "  </thead>\n",
       "  <tbody>\n",
       "    <tr>\n",
       "      <th>0</th>\n",
       "      <td>[[0.11849159, -0.08676035, 0.19801097, 0.15948...</td>\n",
       "      <td>[[-0.026441823691129684, 0.11011077463626862, ...</td>\n",
       "    </tr>\n",
       "    <tr>\n",
       "      <th>1</th>\n",
       "      <td>[[0.13075054, 0.057045773, 0.1320473, -0.08782...</td>\n",
       "      <td>[[0.14347383379936218, 0.22420170903205872, 0....</td>\n",
       "    </tr>\n",
       "    <tr>\n",
       "      <th>2</th>\n",
       "      <td>[[0.11849159, -0.08676035, 0.19801097, 0.15948...</td>\n",
       "      <td>[[0.18018083274364471, 0.10428038984537125, 0....</td>\n",
       "    </tr>\n",
       "    <tr>\n",
       "      <th>3</th>\n",
       "      <td>[[0.24744636, 0.11220646, 0.36438856, 0.325321...</td>\n",
       "      <td>[[0.057891324162483215, 0.4406301975250244, 0....</td>\n",
       "    </tr>\n",
       "    <tr>\n",
       "      <th>4</th>\n",
       "      <td>[[-0.1427337, 0.18077302, 0.49280927, -0.20337...</td>\n",
       "      <td>[[0.1296084225177765, 0.3589269816875458, 0.26...</td>\n",
       "    </tr>\n",
       "  </tbody>\n",
       "</table>\n",
       "</div>"
      ],
      "text/plain": [
       "                                            fen_data  \\\n",
       "0  [[0.11849159, -0.08676035, 0.19801097, 0.15948...   \n",
       "1  [[0.13075054, 0.057045773, 0.1320473, -0.08782...   \n",
       "2  [[0.11849159, -0.08676035, 0.19801097, 0.15948...   \n",
       "3  [[0.24744636, 0.11220646, 0.36438856, 0.325321...   \n",
       "4  [[-0.1427337, 0.18077302, 0.49280927, -0.20337...   \n",
       "\n",
       "                                           move_data  \n",
       "0  [[-0.026441823691129684, 0.11011077463626862, ...  \n",
       "1  [[0.14347383379936218, 0.22420170903205872, 0....  \n",
       "2  [[0.18018083274364471, 0.10428038984537125, 0....  \n",
       "3  [[0.057891324162483215, 0.4406301975250244, 0....  \n",
       "4  [[0.1296084225177765, 0.3589269816875458, 0.26...  "
      ]
     },
     "execution_count": 12,
     "metadata": {},
     "output_type": "execute_result"
    }
   ],
   "source": [
    "predictors.head()"
   ]
  },
  {
   "cell_type": "code",
   "execution_count": 13,
   "metadata": {},
   "outputs": [
    {
     "name": "stderr",
     "output_type": "stream",
     "text": [
      "2024-10-29 02:29:40.955943: W tensorflow/stream_executor/platform/default/dso_loader.cc:64] Could not load dynamic library 'libcuda.so.1'; dlerror: libcuda.so.1: cannot open shared object file: No such file or directory\n",
      "2024-10-29 02:29:40.955965: W tensorflow/stream_executor/cuda/cuda_driver.cc:263] failed call to cuInit: UNKNOWN ERROR (303)\n",
      "2024-10-29 02:29:40.955989: I tensorflow/stream_executor/cuda/cuda_diagnostics.cc:156] kernel driver does not appear to be running on this host (gabs-IdeaPad-3-15ALC6): /proc/driver/nvidia/version does not exist\n",
      "2024-10-29 02:29:40.959865: I tensorflow/core/platform/cpu_feature_guard.cc:193] This TensorFlow binary is optimized with oneAPI Deep Neural Network Library (oneDNN) to use the following CPU instructions in performance-critical operations:  AVX2 FMA\n",
      "To enable them in other operations, rebuild TensorFlow with the appropriate compiler flags.\n"
     ]
    },
    {
     "name": "stdout",
     "output_type": "stream",
     "text": [
      "Model: \"model\"\n",
      "__________________________________________________________________________________________________\n",
      " Layer (type)                   Output Shape         Param #     Connected to                     \n",
      "==================================================================================================\n",
      " fen_input (InputLayer)         [(None, 8, 64, 1)]   0           []                               \n",
      "                                                                                                  \n",
      " move_input (InputLayer)        [(None, 8, 64, 1)]   0           []                               \n",
      "                                                                                                  \n",
      " conv2d (Conv2D)                (None, 7, 63, 32)    160         ['fen_input[0][0]']              \n",
      "                                                                                                  \n",
      " conv2d_1 (Conv2D)              (None, 7, 63, 32)    160         ['move_input[0][0]']             \n",
      "                                                                                                  \n",
      " max_pooling2d (MaxPooling2D)   (None, 3, 31, 32)    0           ['conv2d[0][0]']                 \n",
      "                                                                                                  \n",
      " max_pooling2d_1 (MaxPooling2D)  (None, 3, 31, 32)   0           ['conv2d_1[0][0]']               \n",
      "                                                                                                  \n",
      " flatten (Flatten)              (None, 2976)         0           ['max_pooling2d[0][0]']          \n",
      "                                                                                                  \n",
      " flatten_1 (Flatten)            (None, 2976)         0           ['max_pooling2d_1[0][0]']        \n",
      "                                                                                                  \n",
      " concatenate (Concatenate)      (None, 5952)         0           ['flatten[0][0]',                \n",
      "                                                                  'flatten_1[0][0]']              \n",
      "                                                                                                  \n",
      " dense (Dense)                  (None, 64)           380992      ['concatenate[0][0]']            \n",
      "                                                                                                  \n",
      " dense_1 (Dense)                (None, 1)            65          ['dense[0][0]']                  \n",
      "                                                                                                  \n",
      "==================================================================================================\n",
      "Total params: 381,377\n",
      "Trainable params: 381,377\n",
      "Non-trainable params: 0\n",
      "__________________________________________________________________________________________________\n"
     ]
    }
   ],
   "source": [
    "ncols = predictors.shape[1]\n",
    "\n",
    "fen_input = Input(shape=(8, 64, 1), name='fen_input')\n",
    "move_input = Input(shape=(8, 64, 1), name='move_input')\n",
    "\n",
    "fen_conv1 = Conv2D(32, (2,2), activation='relu')(fen_input)\n",
    "move_conv1 = Conv2D(32, (2,2), activation='relu')(move_input)\n",
    "\n",
    "fen_mp1 = MaxPooling2D(pool_size=(2,2))(fen_conv1)\n",
    "move_mp1 = MaxPooling2D(pool_size=(2,2))(move_conv1)\n",
    "\n",
    "fen_flatter = Flatten()(fen_mp1)\n",
    "move_flatter = Flatten()(move_mp1)\n",
    "\n",
    "combined = Concatenate()([fen_flatter, move_flatter])\n",
    "\n",
    "dense = (Dense(64, activation = 'relu'))(combined)\n",
    "output = (Dense(1 , activation = 'sigmoid'))(dense)\n",
    "\n",
    "mate_evaluator = Model(inputs=[fen_input, move_input], outputs=output)\n",
    "mate_evaluator.compile(optimizer = 'adam', loss = 'categorical_crossentropy', \n",
    "\t\t      metrics=['accuracy'])\n",
    "\n",
    "mate_evaluator.summary()"
   ]
  },
  {
   "cell_type": "code",
   "execution_count": 14,
   "metadata": {},
   "outputs": [
    {
     "name": "stdout",
     "output_type": "stream",
     "text": [
      "(8, 64)\n"
     ]
    }
   ],
   "source": [
    "print(predictors['move_data'][0].shape)\n",
    "for move in predictors['move_data']:\n",
    "    if move.shape != (8, 64):\n",
    "        print(move.shape)"
   ]
  },
  {
   "cell_type": "code",
   "execution_count": 15,
   "metadata": {},
   "outputs": [
    {
     "name": "stdout",
     "output_type": "stream",
     "text": [
      "(465016, 8, 64)\n",
      "(465016, 8, 64)\n",
      "(465016, 8, 64, 1)\n",
      "(465016, 8, 64, 1)\n",
      "(465016,)\n"
     ]
    }
   ],
   "source": [
    "# Extraindo as colunas do DataFrame predictors\n",
    "fen_data = np.array(predictors['fen_data'].tolist())  # ou predictors['fen_data'].values\n",
    "move_data = np.array(predictors['move_data'].tolist())  # ou predictors['move_data'].values\n",
    "\n",
    "# Verifique a forma dos dados extraídos\n",
    "print(fen_data.shape)  # Espera-se que seja (465016, 8, 64)\n",
    "print(move_data.shape)  # Espera-se que seja (465016, 8, 64)\n",
    "\n",
    "# Empilhe os dados para obter a forma desejada\n",
    "X_fen = np.reshape(fen_data, (fen_data.shape[0], 8, 64, 1))  # Reestrutura para (n_samples, 8, 64, 1)\n",
    "X_move = np.reshape(move_data, (move_data.shape[0], 8, 64, 1))  # Reestrutura para (n_samples, 8, 64, 1)\n",
    "\n",
    "# Prepare os rótulos\n",
    "y = tactic_evals_check['isCheck'].to_numpy()  # ou tactic_evals_check['isCheck'].values\n",
    "\n",
    "# Verifique a forma dos dados\n",
    "print(X_fen.shape)  # Deve ser (465016, 8, 64, 1)\n",
    "print(X_move.shape)  # Deve ser (465016, 8, 64, 1)\n",
    "print(y.shape)  # Deve ser (465016,)\n"
   ]
  },
  {
   "cell_type": "code",
   "execution_count": null,
   "metadata": {},
   "outputs": [],
   "source": [
    "early_stopping_monitor = EarlyStopping(patience=2)\n",
    "mate_evaluator.fit([X_fen, X_move], y, \n",
    "                    validation_split=0.3, \n",
    "                    epochs=20, \n",
    "                    callbacks=[early_stopping_monitor])"
   ]
  }
 ],
 "metadata": {
  "kernelspec": {
   "display_name": "base",
   "language": "python",
   "name": "python3"
  },
  "language_info": {
   "codemirror_mode": {
    "name": "ipython",
    "version": 3
   },
   "file_extension": ".py",
   "mimetype": "text/x-python",
   "name": "python",
   "nbconvert_exporter": "python",
   "pygments_lexer": "ipython3",
   "version": "3.10.10"
  }
 },
 "nbformat": 4,
 "nbformat_minor": 2
}
