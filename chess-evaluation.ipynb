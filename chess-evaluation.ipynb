{
 "cells": [
  {
   "cell_type": "code",
   "execution_count": null,
   "metadata": {},
   "outputs": [],
   "source": [
    "import pandas as pd\n",
    "import numpy as np\n",
    "import torch\n",
    "from gensim.models import Word2Vec\n",
    "from tensorflow.keras.layers import Dense, Flatten, MaxPooling2D, Concatenate, Input, Conv2D\n",
    "from tensorflow.keras.models import Model\n",
    "from tensorflow.keras.callbacks import EarlyStopping"
   ]
  },
  {
   "cell_type": "code",
   "execution_count": 2,
   "metadata": {},
   "outputs": [],
   "source": [
    "#chessData = pd.read_csv('Data/chessData.csv')\n",
    "#random_evals = pd.read_csv('Data/random_evals.csv')-\n",
    "tactic_evals = pd.read_csv('Data/tactic_evals.csv')"
   ]
  },
  {
   "cell_type": "code",
   "execution_count": 3,
   "metadata": {},
   "outputs": [],
   "source": [
    "len(tactic_evals)\n",
    "tactic_evals = tactic_evals[:500000]\n"
   ]
  },
  {
   "cell_type": "code",
   "execution_count": null,
   "metadata": {},
   "outputs": [],
   "source": [
    "tactic_evals_check = tactic_evals.dropna()\n",
    "tactic_evals_check['isCheck'] = tactic_evals_check['Evaluation'].str.contains(\"#\")\n",
    "tactic_evals_check['isCheck'] = list(map(int, tactic_evals_check['isCheck']))\n",
    "\n",
    "predictors_raw = tactic_evals_check.drop(['Evaluation', 'isCheck'], axis=1)\n",
    "predictors_raw.head()"
   ]
  },
  {
   "cell_type": "code",
   "execution_count": 5,
   "metadata": {},
   "outputs": [],
   "source": [
    "def separate_board(board):\n",
    "    return board.replace('/', ' ').split()\n",
    "\n",
    "def separate_move(move):\n",
    "    separated_move = []\n",
    "    for i in range(len(move)):\n",
    "        separated_move.append(move[i])\n",
    "    return separated_move\n"
   ]
  },
  {
   "cell_type": "code",
   "execution_count": 6,
   "metadata": {},
   "outputs": [],
   "source": [
    "tokens_lines = list(map(separate_board, np.asarray(tactic_evals_check['FEN'])))\n",
    "tokens_lines = [line[0:8] for line in tokens_lines]\n",
    "\n",
    "tokens_moves = list(map(separate_move, np.asarray(tactic_evals_check['Move'])))\n",
    "#tokens_piece = list(map(fen_to_tokens_without_spaces, np.asarray(tactic_evals['FEN'])))\n",
    "predictors_raw['FEN'] = tokens_lines\n",
    "predictors_raw['Move'] = tokens_moves\n"
   ]
  },
  {
   "cell_type": "code",
   "execution_count": null,
   "metadata": {},
   "outputs": [],
   "source": [
    "fen_embedding_dim = 32\n",
    "fen_embeddings = Word2Vec(sentences=tokens_lines, vector_size=fen_embedding_dim, window=5, min_count=1, sg=1)\n",
    "fen_embeddings.train(tokens_lines, total_examples=len(tokens_lines), epochs=10)"
   ]
  },
  {
   "cell_type": "code",
   "execution_count": null,
   "metadata": {},
   "outputs": [],
   "source": [
    "move_embedding_dim = 32\n",
    "move_embeddings = Word2Vec(sentences=tokens_moves, vector_size=move_embedding_dim, window=5, min_count=1, sg=1)\n",
    "move_embeddings.train(tokens_moves, total_examples=len(tokens_moves), epochs=10)"
   ]
  },
  {
   "cell_type": "code",
   "execution_count": 9,
   "metadata": {},
   "outputs": [],
   "source": [
    "fen_data = []\n",
    "move_data = []\n",
    "\n",
    "for line in range(len(tokens_lines)):\n",
    "    fen_data.append(fen_embeddings.wv[tokens_lines[line]])\n",
    "\n",
    "for move in range(len(tokens_moves)):\n",
    "    move_data.append(move_embeddings.wv[tokens_moves[move]])\n",
    "\n",
    "predictors = pd.DataFrame({\n",
    "    'fen_data': fen_data,\n",
    "    'move_data': move_data\n",
    "})"
   ]
  },
  {
   "cell_type": "code",
   "execution_count": 13,
   "metadata": {},
   "outputs": [],
   "source": [
    "move_data_expanded = []\n",
    "for embedding in move_data:\n",
    "    if embedding.shape == (4, 32):\n",
    "        move_data_expanded.append(np.vstack([embedding, np.zeros((4, 32))]))\n",
    "    else:\n",
    "        move_data_expanded.append(np.vstack([embedding, np.zeros((3, 32))]))\n",
    "        \n",
    "predictors['move_data'] = move_data_expanded"
   ]
  },
  {
   "cell_type": "code",
   "execution_count": null,
   "metadata": {},
   "outputs": [],
   "source": [
    "print(f\"fen_data_shape: {predictors['fen_data'][0].shape}\\n move_data_shape: {predictors['move_data'][0].shape}\")\n"
   ]
  },
  {
   "cell_type": "code",
   "execution_count": null,
   "metadata": {},
   "outputs": [],
   "source": [
    "fen_data = np.array(predictors['fen_data'].tolist())\n",
    "move_data = np.array(predictors['move_data'].tolist()) \n",
    "\n",
    "\n",
    "print(fen_data.shape) \n",
    "print(move_data.shape) \n",
    "\n",
    "\n",
    "X_fen = np.reshape(fen_data, (fen_data.shape[0], 8, 32, 1)) \n",
    "X_move = np.reshape(move_data, (move_data.shape[0], 8, 32, 1)) \n",
    "\n",
    "y = tactic_evals_check['isCheck'].to_numpy()  \n",
    "\n",
    "\n",
    "print(X_fen.shape) \n",
    "print(X_move.shape)  \n",
    "print(y.shape)  "
   ]
  },
  {
   "cell_type": "code",
   "execution_count": null,
   "metadata": {},
   "outputs": [],
   "source": [
    "predictors.head()"
   ]
  },
  {
   "cell_type": "code",
   "execution_count": null,
   "metadata": {},
   "outputs": [],
   "source": [
    "ncols = predictors.shape[1]\n",
    "\n",
    "fen_input = Input(shape=(8, 32, 1), name='fen_input')\n",
    "move_input = Input(shape=(8, 32, 1), name='move_input')\n",
    "\n",
    "fen_conv1 = Conv2D(16, (2,2), activation='relu')(fen_input)\n",
    "move_conv1 = Conv2D(16, (2,2), activation='relu')(move_input)\n",
    "\n",
    "fen_mp1 = MaxPooling2D(pool_size=(2,2))(fen_conv1)\n",
    "move_mp1 = MaxPooling2D(pool_size=(2,2))(move_conv1)\n",
    "\n",
    "fen_flatter = Flatten()(fen_mp1)\n",
    "move_flatter = Flatten()(move_mp1)\n",
    "\n",
    "combined = Concatenate()([fen_flatter, move_flatter])\n",
    "\n",
    "dense = (Dense(32, activation = 'relu'))(combined)\n",
    "output = (Dense(1 , activation = 'sigmoid'))(dense)\n",
    "\n",
    "mate_evaluator = Model(inputs=[fen_input, move_input], outputs=output)\n",
    "mate_evaluator.compile(optimizer = 'adam', loss = 'binary_crossentropy', \n",
    "\t\t      metrics=['accuracy'])\n",
    "\n",
    "mate_evaluator.summary()"
   ]
  },
  {
   "cell_type": "code",
   "execution_count": null,
   "metadata": {},
   "outputs": [],
   "source": [
    "#acc = 0.8509\n",
    "early_stopping_monitor = EarlyStopping(patience=2)\n",
    "mate_evaluator.fit([X_fen, X_move], y, \n",
    "                    validation_split=0.3, \n",
    "                    epochs=10, \n",
    "                    callbacks=[early_stopping_monitor])"
   ]
  },
  {
   "cell_type": "code",
   "execution_count": null,
   "metadata": {},
   "outputs": [],
   "source": [
    "test_match_board = 'R3K1NR/PPPBBPPP/8/k7/3P2pp/p3P3/1pQ1p3/1r4nr'\n",
    "test_match_mate = '2da5'\n",
    "\n",
    "sep_board = separate_board(test_match_board)\n",
    "sep_mate = separate_move(test_match_mate)\n",
    "\n",
    "\n",
    "board_emb = fen_embeddings.wv[sep_board]\n",
    "mate_emb = move_embeddings.wv[sep_mate]\n",
    "\n",
    "print(board_emb.shape)\n",
    "print(mate_emb.shape)\n",
    "\n",
    "#mate_evaluator.predict([])"
   ]
  }
 ],
 "metadata": {
  "kernelspec": {
   "display_name": "base",
   "language": "python",
   "name": "python3"
  },
  "language_info": {
   "codemirror_mode": {
    "name": "ipython",
    "version": 3
   },
   "file_extension": ".py",
   "mimetype": "text/x-python",
   "name": "python",
   "nbconvert_exporter": "python",
   "pygments_lexer": "ipython3",
   "version": "3.10.10"
  }
 },
 "nbformat": 4,
 "nbformat_minor": 2
}
