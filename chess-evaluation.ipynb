{
 "cells": [
  {
   "cell_type": "code",
   "execution_count": null,
   "metadata": {},
   "outputs": [],
   "source": [
    "import pandas as pd\n",
    "import numpy as np"
   ]
  },
  {
   "cell_type": "code",
   "execution_count": 4,
   "metadata": {},
   "outputs": [],
   "source": [
    "#chessData = pd.read_csv('Data/chessData.csv')\n",
    "#random_evals = pd.read_csv('Data/random_evals.csv')-\n",
    "tactic_evals = pd.read_csv('Data/tactic_evals.csv')"
   ]
  },
  {
   "cell_type": "code",
   "execution_count": 7,
   "metadata": {},
   "outputs": [],
   "source": [
    "tactic_evals = tactic_evals.dropna()\n",
    "tactic_evals['isCheck'] = tactic_evals['Evaluation'].str.contains(\"#\")\n",
    "tactic_evals['isCheck'] = list(map(int, tactic_evals['isCheck']))\n",
    "\n",
    "#predictors_raw = tactic_evals_check.drop(['Evaluation', 'isCheck'], axis=1)\n",
    "#predictors_raw.head()"
   ]
  },
  {
   "cell_type": "markdown",
   "metadata": {},
   "source": [
    "## Pré-processamento dos dados ##\n",
    "\n",
    "Formato de um código FEN: rnbqkbnr/pppppppp/8/8/8/8/PPPPPPPP/RNBQKBNR w KQkq - 0 1\n",
    "\n",
    "Para utilizar esses dados em um modelo de IA, precisamos fazer algums tratamentos para transformar eles em um input\n",
    "\n",
    "#### Pré-processamento código FEN ####\n",
    "\n",
    "Tokenização: Podemos análisar o código mais facilmente tokenizando o valor para os valores presentes em suas linhas\n",
    "\n",
    "Remoção de dados irrelevantes: Para nosso objetivo, que não envolve validação de jogadas, as informações após o tabuleiro não são úteis\n",
    "\n",
    "Converter números para 0: Transformar um número naquela quantidade de 0's é importante para representar as casas vazias\n",
    "\n",
    "Conversão para matriz: Utilizando a pontuação de sarrat para converter peças em números e transformar o código em uma matriz 8x8\n",
    "\n",
    "\n",
    "#### Pré-processamento jogada ####\n",
    "\n",
    "\n"
   ]
  },
  {
   "cell_type": "code",
   "execution_count": 1,
   "metadata": {},
   "outputs": [],
   "source": [
    "sarrat = {\n",
    "    'P':1,\n",
    "    'N':3.1,\n",
    "    'B':3.3,\n",
    "    'R':5,\n",
    "    'Q':7.9,\n",
    "    'K':2.2,\n",
    "    'p':-1,\n",
    "    'n':-3.1,\n",
    "    'b':-3.3,\n",
    "    'r':-5,\n",
    "    'q':-7.9,\n",
    "    'k':-2.2\n",
    "}"
   ]
  },
  {
   "cell_type": "code",
   "execution_count": 3,
   "metadata": {},
   "outputs": [],
   "source": [
    "import re\n",
    "from sklearn.pipeline import Pipeline\n",
    "from sklearn.preprocessing import FunctionTransformer"
   ]
  },
  {
   "cell_type": "code",
   "execution_count": null,
   "metadata": {},
   "outputs": [],
   "source": [
    "def separate_board(board):\n",
    "    return board.replace('/', ' ').split()\n",
    "\n",
    "def remove_extras(board):\n",
    "    return board[0:8]\n",
    "\n",
    "def num_to_zeros(board):\n",
    "    for i in range(len(board)):\n",
    "        board[i] = re.sub(r'[1-9]', '0', board[i])\n",
    "    return board\n",
    "            \n",
    "def fen_to_matrix(fen):\n",
    "    matrix = []\n",
    "    for line in fen:\n",
    "        row = []\n",
    "        for letter in line:\n",
    "            row.append(sarrat.get(f'{letter}', letter))\n",
    "        matrix.append(row)\n",
    "    return matrix\n",
    "\n",
    "def separate_move(move):\n",
    "    separated_move = []\n",
    "    for i in range(len(move)):\n",
    "        separated_move.append(move[i])\n",
    "    return separated_move\n"
   ]
  },
  {
   "cell_type": "code",
   "execution_count": null,
   "metadata": {},
   "outputs": [],
   "source": [
    "pipeline_transform_fen = Pipeline([\n",
    "    ('Separate board into lines', FunctionTransformer(separate_board)),\n",
    "    ('Remove no-board info', FunctionTransformer(remove_extras)),\n",
    "    ('Convert num to zeros', FunctionTransformer(num_to_zeros)),\n",
    "    ('Convert fen notation to matrix', FunctionTransformer(fen_to_matrix))\n",
    "])"
   ]
  },
  {
   "cell_type": "code",
   "execution_count": null,
   "metadata": {},
   "outputs": [],
   "source": []
  },
  {
   "cell_type": "code",
   "execution_count": null,
   "metadata": {},
   "outputs": [],
   "source": [
    "from tensorflow.keras.layers import Dense, Flatten, MaxPooling2D, Concatenate, Input, Conv2D\n",
    "from tensorflow.keras.models import Model\n",
    "from tensorflow.keras.callbacks import EarlyStopping"
   ]
  }
 ],
 "metadata": {
  "kernelspec": {
   "display_name": "base",
   "language": "python",
   "name": "python3"
  },
  "language_info": {
   "codemirror_mode": {
    "name": "ipython",
    "version": 3
   },
   "file_extension": ".py",
   "mimetype": "text/x-python",
   "name": "python",
   "nbconvert_exporter": "python",
   "pygments_lexer": "ipython3",
   "version": "3.10.10"
  }
 },
 "nbformat": 4,
 "nbformat_minor": 2
}
